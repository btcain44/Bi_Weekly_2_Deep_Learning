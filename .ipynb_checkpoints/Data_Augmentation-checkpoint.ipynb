{
 "cells": [
  {
   "cell_type": "markdown",
   "id": "1b712dc8",
   "metadata": {},
   "source": [
    "## Bi-Weekly Report 2\n",
    "### Brian Cain\n",
    "#### Data_Augmentation.ipynb\n",
    "\n",
    "In the Large Networks section of our course the past couple of weeks, we have explored various techniques in Data Augmentation. These techniques have been shown to improve Network. Specifically, I have a deep interest in performing mixup and random erasing data augmentation. \n",
    "\n",
    "This might possibly be a good resource for this: https://keras.io/examples/vision/mixup/"
   ]
  },
  {
   "cell_type": "code",
   "execution_count": 3,
   "id": "eb4f497d",
   "metadata": {},
   "outputs": [],
   "source": [
    "##Define function to perform VRM Mix-up\n",
    "def mixup(alpha):\n",
    "    \n",
    "    ##Generate lambda values from beta distribution based on alpha input\n",
    "    lambda_val = (tfp.distributions.Sample(\n",
    "        tf.distributions.Beta(concentration1=alpha,concentration0=alpha),\n",
    "    sample_shape=1))\n",
    "\n",
    "    \n",
    "    return lambda_val ##Defining function for now, working through math on paper"
   ]
  },
  {
   "cell_type": "code",
   "execution_count": 4,
   "id": "74942c8c",
   "metadata": {},
   "outputs": [
    {
     "ename": "NameError",
     "evalue": "name 'tfp' is not defined",
     "output_type": "error",
     "traceback": [
      "\u001b[1;31m---------------------------------------------------------------------------\u001b[0m",
      "\u001b[1;31mNameError\u001b[0m                                 Traceback (most recent call last)",
      "\u001b[1;32m<ipython-input-4-878cee65c367>\u001b[0m in \u001b[0;36m<module>\u001b[1;34m\u001b[0m\n\u001b[0;32m      1\u001b[0m \u001b[1;31m#import tensorflow as tf\u001b[0m\u001b[1;33m\u001b[0m\u001b[1;33m\u001b[0m\u001b[1;33m\u001b[0m\u001b[0m\n\u001b[1;32m----> 2\u001b[1;33m \u001b[0mmixup\u001b[0m\u001b[1;33m(\u001b[0m\u001b[1;36m.2\u001b[0m\u001b[1;33m)\u001b[0m\u001b[1;33m\u001b[0m\u001b[1;33m\u001b[0m\u001b[0m\n\u001b[0m",
      "\u001b[1;32m<ipython-input-3-f0cb33b17994>\u001b[0m in \u001b[0;36mmixup\u001b[1;34m(alpha)\u001b[0m\n\u001b[0;32m      3\u001b[0m \u001b[1;33m\u001b[0m\u001b[0m\n\u001b[0;32m      4\u001b[0m     \u001b[1;31m##Generate lambda values from beta distribution based on alpha input\u001b[0m\u001b[1;33m\u001b[0m\u001b[1;33m\u001b[0m\u001b[1;33m\u001b[0m\u001b[0m\n\u001b[1;32m----> 5\u001b[1;33m     lambda_val = (tfp.distributions.Sample(\n\u001b[0m\u001b[0;32m      6\u001b[0m         \u001b[0mtf\u001b[0m\u001b[1;33m.\u001b[0m\u001b[0mdistributions\u001b[0m\u001b[1;33m.\u001b[0m\u001b[0mBeta\u001b[0m\u001b[1;33m(\u001b[0m\u001b[0mconcentration1\u001b[0m\u001b[1;33m=\u001b[0m\u001b[0malpha\u001b[0m\u001b[1;33m,\u001b[0m\u001b[0mconcentration0\u001b[0m\u001b[1;33m=\u001b[0m\u001b[0malpha\u001b[0m\u001b[1;33m)\u001b[0m\u001b[1;33m,\u001b[0m\u001b[1;33m\u001b[0m\u001b[1;33m\u001b[0m\u001b[0m\n\u001b[0;32m      7\u001b[0m     sample_shape=1))\n",
      "\u001b[1;31mNameError\u001b[0m: name 'tfp' is not defined"
     ]
    }
   ],
   "source": [
    "#import tensorflow as tf\n",
    "mixup(.2)"
   ]
  },
  {
   "cell_type": "markdown",
   "id": "015e3b67",
   "metadata": {},
   "source": [
    "#### What to try next:\n",
    "\n",
    "Specifically on the topic of random erasing data augmentation, I would like to try this technique on images with blocks around objects. We have not reviewed bounding blocks in class yet but this will be something to try when we do. "
   ]
  }
 ],
 "metadata": {
  "kernelspec": {
   "display_name": "Python 3",
   "language": "python",
   "name": "python3"
  },
  "language_info": {
   "codemirror_mode": {
    "name": "ipython",
    "version": 3
   },
   "file_extension": ".py",
   "mimetype": "text/x-python",
   "name": "python",
   "nbconvert_exporter": "python",
   "pygments_lexer": "ipython3",
   "version": "3.7.11"
  }
 },
 "nbformat": 4,
 "nbformat_minor": 5
}
